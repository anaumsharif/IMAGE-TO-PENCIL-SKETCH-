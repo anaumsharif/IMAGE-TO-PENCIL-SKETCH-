{
 "cells": [
  {
   "cell_type": "code",
   "execution_count": 2,
   "id": "8ab50a4b",
   "metadata": {},
   "outputs": [],
   "source": [
    "# we need to read the image in RGB format and then convert it to a grayscale image.\n",
    "# This will turn an image into a classic black and white photo.\n",
    "# Then the next thing to do is convert the grayscale image, also called negative image.\n",
    "# This will be our inverted grayscale image.Inversion can be used to enhance details.\n",
    "# Then we can finally create the pencil sketch by mixing the grayscale image with the inverted blurry image.\n",
    "# This can be done by dividing the grayscale image by the inverted bellori image.\n",
    "# Since images are just arrays, we can easily do this programmatically using the divided function from the Cv2 library in Python."
   ]
  },
  {
   "cell_type": "code",
   "execution_count": 3,
   "id": "6b28e98d",
   "metadata": {},
   "outputs": [],
   "source": [
    "import cv2"
   ]
  },
  {
   "cell_type": "markdown",
   "id": "774f6a94",
   "metadata": {},
   "source": [
    "# IMAGE - 1"
   ]
  },
  {
   "cell_type": "code",
   "execution_count": 4,
   "id": "71c7d3e4",
   "metadata": {},
   "outputs": [
    {
     "data": {
      "text/plain": [
       "-1"
      ]
     },
     "execution_count": 4,
     "metadata": {},
     "output_type": "execute_result"
    }
   ],
   "source": [
    "image = cv2.imread(\"beach.jpg\")\n",
    "cv2.imshow(\"Beach\", image)\n",
    "cv2.waitKey(0)"
   ]
  },
  {
   "cell_type": "code",
   "execution_count": 5,
   "id": "6c9e4f03",
   "metadata": {},
   "outputs": [
    {
     "data": {
      "text/plain": [
       "-1"
      ]
     },
     "execution_count": 5,
     "metadata": {},
     "output_type": "execute_result"
    }
   ],
   "source": [
    "gray_image = cv2.cvtColor(image, cv2.COLOR_BGR2GRAY)\n",
    "cv2.imshow(\"New Beach\", gray_image)\n",
    "cv2.waitKey(0)"
   ]
  },
  {
   "cell_type": "code",
   "execution_count": 6,
   "id": "9e7a0647",
   "metadata": {},
   "outputs": [
    {
     "data": {
      "text/plain": [
       "-1"
      ]
     },
     "execution_count": 6,
     "metadata": {},
     "output_type": "execute_result"
    }
   ],
   "source": [
    "inverted_image = 255 - gray_image\n",
    "cv2.imshow(\"Inverted\", inverted_image)\n",
    "cv2.waitKey()"
   ]
  },
  {
   "cell_type": "code",
   "execution_count": 7,
   "id": "e87b2b13",
   "metadata": {},
   "outputs": [],
   "source": [
    "blurred = cv2.GaussianBlur(inverted_image, (21, 21), 0)"
   ]
  },
  {
   "cell_type": "code",
   "execution_count": 8,
   "id": "247a778b",
   "metadata": {},
   "outputs": [
    {
     "data": {
      "text/plain": [
       "-1"
      ]
     },
     "execution_count": 8,
     "metadata": {},
     "output_type": "execute_result"
    }
   ],
   "source": [
    "inverted_blurred = 255 - blurred\n",
    "pencil_sketch = cv2.divide(gray_image, inverted_blurred, scale=256.0)\n",
    "cv2.imshow(\"Sketch\", pencil_sketch)\n",
    "cv2.waitKey(0)"
   ]
  },
  {
   "cell_type": "code",
   "execution_count": 9,
   "id": "66306326",
   "metadata": {},
   "outputs": [
    {
     "data": {
      "text/plain": [
       "-1"
      ]
     },
     "execution_count": 9,
     "metadata": {},
     "output_type": "execute_result"
    }
   ],
   "source": [
    "cv2.imshow(\"original image\", image)\n",
    "cv2.imshow(\"pencil sketch\", pencil_sketch)\n",
    "cv2.waitKey(0)"
   ]
  },
  {
   "cell_type": "markdown",
   "id": "5608ffc6",
   "metadata": {},
   "source": [
    "# IMAGE - 2"
   ]
  },
  {
   "cell_type": "code",
   "execution_count": 10,
   "id": "52cbd1ed",
   "metadata": {},
   "outputs": [
    {
     "data": {
      "text/plain": [
       "-1"
      ]
     },
     "execution_count": 10,
     "metadata": {},
     "output_type": "execute_result"
    }
   ],
   "source": [
    "image = cv2.imread(\"op.jpg\")\n",
    "cv2.imshow(\"Beach\", image)\n",
    "cv2.waitKey(0)"
   ]
  },
  {
   "cell_type": "code",
   "execution_count": 11,
   "id": "47399e62",
   "metadata": {},
   "outputs": [
    {
     "data": {
      "text/plain": [
       "-1"
      ]
     },
     "execution_count": 11,
     "metadata": {},
     "output_type": "execute_result"
    }
   ],
   "source": [
    "gray_image = cv2.cvtColor(image, cv2.COLOR_BGR2GRAY)\n",
    "cv2.imshow(\"New op\", gray_image)\n",
    "cv2.waitKey(0)"
   ]
  },
  {
   "cell_type": "code",
   "execution_count": 12,
   "id": "09987251",
   "metadata": {},
   "outputs": [
    {
     "data": {
      "text/plain": [
       "-1"
      ]
     },
     "execution_count": 12,
     "metadata": {},
     "output_type": "execute_result"
    }
   ],
   "source": [
    "inverted_image = 255 - gray_image\n",
    "cv2.imshow(\"Inverted\", inverted_image)\n",
    "cv2.waitKey()"
   ]
  },
  {
   "cell_type": "code",
   "execution_count": 13,
   "id": "9812bf52",
   "metadata": {},
   "outputs": [],
   "source": [
    "blurred = cv2.GaussianBlur(inverted_image, (21, 21), 0)"
   ]
  },
  {
   "cell_type": "code",
   "execution_count": 14,
   "id": "13db9b37",
   "metadata": {},
   "outputs": [
    {
     "data": {
      "text/plain": [
       "-1"
      ]
     },
     "execution_count": 14,
     "metadata": {},
     "output_type": "execute_result"
    }
   ],
   "source": [
    "inverted_blurred = 255 - blurred\n",
    "pencil_sketch = cv2.divide(gray_image, inverted_blurred, scale=256.0)\n",
    "cv2.imshow(\"Sketch\", pencil_sketch)\n",
    "cv2.waitKey(0)"
   ]
  },
  {
   "cell_type": "code",
   "execution_count": 15,
   "id": "52696bff",
   "metadata": {},
   "outputs": [
    {
     "data": {
      "text/plain": [
       "-1"
      ]
     },
     "execution_count": 15,
     "metadata": {},
     "output_type": "execute_result"
    }
   ],
   "source": [
    "cv2.imshow(\"original image\", image)\n",
    "cv2.imshow(\"pencil sketch\", pencil_sketch)\n",
    "cv2.waitKey(0)"
   ]
  },
  {
   "cell_type": "markdown",
   "id": "7b4d4e8a",
   "metadata": {},
   "source": [
    "# IMAGE - 3"
   ]
  },
  {
   "cell_type": "code",
   "execution_count": 16,
   "id": "d09ff097",
   "metadata": {},
   "outputs": [
    {
     "data": {
      "text/plain": [
       "-1"
      ]
     },
     "execution_count": 16,
     "metadata": {},
     "output_type": "execute_result"
    }
   ],
   "source": [
    "image = cv2.imread(\"op2.jpg\")\n",
    "cv2.imshow(\"Beach\", image)\n",
    "cv2.waitKey(0)"
   ]
  },
  {
   "cell_type": "code",
   "execution_count": 17,
   "id": "e9d88012",
   "metadata": {},
   "outputs": [
    {
     "data": {
      "text/plain": [
       "-1"
      ]
     },
     "execution_count": 17,
     "metadata": {},
     "output_type": "execute_result"
    }
   ],
   "source": [
    "gray_image = cv2.cvtColor(image, cv2.COLOR_BGR2GRAY)\n",
    "cv2.imshow(\"New One Peice\", gray_image)\n",
    "cv2.waitKey(0)"
   ]
  },
  {
   "cell_type": "code",
   "execution_count": 18,
   "id": "95a0e22c",
   "metadata": {},
   "outputs": [
    {
     "data": {
      "text/plain": [
       "-1"
      ]
     },
     "execution_count": 18,
     "metadata": {},
     "output_type": "execute_result"
    }
   ],
   "source": [
    "inverted_image = 255 - gray_image\n",
    "cv2.imshow(\"Inverted\", inverted_image)\n",
    "cv2.waitKey()"
   ]
  },
  {
   "cell_type": "code",
   "execution_count": 19,
   "id": "f29dd2fe",
   "metadata": {},
   "outputs": [],
   "source": [
    "blurred = cv2.GaussianBlur(inverted_image, (21, 21), 0)"
   ]
  },
  {
   "cell_type": "code",
   "execution_count": 20,
   "id": "698d25ca",
   "metadata": {},
   "outputs": [
    {
     "data": {
      "text/plain": [
       "-1"
      ]
     },
     "execution_count": 20,
     "metadata": {},
     "output_type": "execute_result"
    }
   ],
   "source": [
    "inverted_blurred = 255 - blurred\n",
    "pencil_sketch = cv2.divide(gray_image, inverted_blurred, scale=256.0)\n",
    "cv2.imshow(\"Sketch\", pencil_sketch)\n",
    "cv2.waitKey(0)"
   ]
  },
  {
   "cell_type": "code",
   "execution_count": 21,
   "id": "57b98555",
   "metadata": {},
   "outputs": [
    {
     "data": {
      "text/plain": [
       "-1"
      ]
     },
     "execution_count": 21,
     "metadata": {},
     "output_type": "execute_result"
    }
   ],
   "source": [
    "cv2.imshow(\"original image\", image)\n",
    "cv2.imshow(\"pencil sketch\", pencil_sketch)\n",
    "cv2.waitKey(0)"
   ]
  },
  {
   "cell_type": "code",
   "execution_count": null,
   "id": "f2122b09",
   "metadata": {},
   "outputs": [],
   "source": []
  },
  {
   "cell_type": "code",
   "execution_count": null,
   "id": "6c1c6c13",
   "metadata": {},
   "outputs": [],
   "source": []
  },
  {
   "cell_type": "code",
   "execution_count": null,
   "id": "3342956e",
   "metadata": {},
   "outputs": [],
   "source": []
  }
 ],
 "metadata": {
  "kernelspec": {
   "display_name": "Python 3 (ipykernel)",
   "language": "python",
   "name": "python3"
  },
  "language_info": {
   "codemirror_mode": {
    "name": "ipython",
    "version": 3
   },
   "file_extension": ".py",
   "mimetype": "text/x-python",
   "name": "python",
   "nbconvert_exporter": "python",
   "pygments_lexer": "ipython3",
   "version": "3.11.4"
  }
 },
 "nbformat": 4,
 "nbformat_minor": 5
}
